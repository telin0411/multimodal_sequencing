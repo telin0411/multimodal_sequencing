{
 "cells": [
  {
   "cell_type": "markdown",
   "metadata": {},
   "source": [
    "# Data Inspections Demo"
   ]
  },
  {
   "cell_type": "code",
   "execution_count": null,
   "metadata": {},
   "outputs": [],
   "source": [
    "import csv\n",
    "import os\n",
    "import sys\n",
    "import re\n",
    "import string\n",
    "import json\n",
    "import xml.etree.ElementTree as ET\n",
    "from IPython.display import Image\n",
    "import random\n",
    "import numpy as np\n",
    "import glob\n",
    "import shutil\n",
    "from termcolor import colored\n",
    "\n",
    "\n",
    "from IPython.display import HTML as html_print\n",
    "from IPython.display import Markdown\n",
    "\n",
    "from transformers import AutoTokenizer\n",
    "\n",
    "from nltk.tokenize import word_tokenize\n",
    "from nltk.tokenize import sent_tokenize\n",
    "\n",
    "import cv2\n",
    "import pandas as pd\n",
    "from textwrap import wrap\n",
    "\n",
    "import warnings\n",
    "warnings.filterwarnings('ignore')\n",
    "\n",
    "import seaborn as sns\n",
    "sns.set()\n",
    "\n",
    "from matplotlib import pyplot as plt\n",
    "import matplotlib.patches as patches\n",
    "%pylab inline\n",
    "\n",
    "# for auto-reloading external modules\n",
    "# see http://stackoverflow.com/questions/1907993/autoreload-of-modules-in-ipython\n",
    "%load_ext autoreload\n",
    "%autoreload 2"
   ]
  },
  {
   "cell_type": "markdown",
   "metadata": {},
   "source": [
    "## Some Useful Functions"
   ]
  },
  {
   "cell_type": "code",
   "execution_count": null,
   "metadata": {},
   "outputs": [],
   "source": [
    "def show_image_with_path(img_path, title=None, title_max_len=None, img_size=6):\n",
    "    img = cv2.imread(img_path)\n",
    "    # print(img.shape)\n",
    "    plt.figure(figsize=(img_size, img_size))\n",
    "    plt.imshow(img[:, :, ::-1])\n",
    "    plt.axis('off')\n",
    "    if title is not None:\n",
    "        if title_max_len is not None:\n",
    "            title = title[:title_max_len] + \"... ...\"\n",
    "        title = \"\\n\".join(wrap(title, 60))\n",
    "        plt.title(title)\n",
    "    pass ####\n",
    "\n",
    "\n",
    "def show_one_sampled_data(data, scrambled=False, resized_version=False, \n",
    "                          show_label=False, unimodal=None, img_size=6,\n",
    "                          title_max_len=None, show_url=False, id_mappings=None,\n",
    "                          step_id=None, order=None):\n",
    "    if step_id is not None:\n",
    "        step_id -= 1\n",
    "\n",
    "    if unimodal is not None:\n",
    "        assert unimodal in [\"image\", \"text\"]\n",
    "    \n",
    "    text_seq = data.text_seq[:]\n",
    "    img_path_seq = data.img_path_seq[:]\n",
    "    idx_seq = np.arange(len(text_seq))\n",
    "    \n",
    "    if show_url:\n",
    "        data_guid = data.guid\n",
    "        if len(data_guid.split(\"###\")) > 1:\n",
    "            url, title = data_guid.split(\"###\")[0], data_guid.split(\"###\")[1]\n",
    "        else:\n",
    "            url = data_guid\n",
    "        print(url)\n",
    "    \n",
    "    if scrambled:\n",
    "        np.random.shuffle(idx_seq)\n",
    "        # text_seq = [text_seq[x] for x in idx_seq]\n",
    "        # img_path_seq = [img_path_seq[x] for x in idx_seq]\n",
    "        idx_seq_to_sort = idx_seq[:]\n",
    "        arg_sort_idx_seq = np.argsort(idx_seq_to_sort)\n",
    "        label = list(arg_sort_idx_seq + 1)\n",
    "        if show_label:\n",
    "            print(\"Label: {}\".format(arg_sort_idx_seq + 1))\n",
    "\n",
    "    if order is not None:\n",
    "        order = [x-min(order) for x in order]\n",
    "        idx_seq = order\n",
    "            \n",
    "    for seq_idx in idx_seq:\n",
    "        if step_id is not None:\n",
    "            if seq_idx != step_id:\n",
    "                continue\n",
    "        if show_label:\n",
    "            seq_idx_in_title = str(seq_idx + 1) + \". \"\n",
    "        else:\n",
    "            seq_idx_in_title = \"\"\n",
    "        text = text_seq[seq_idx]\n",
    "        text = seq_idx_in_title + text\n",
    "        img_path = img_path_seq[seq_idx]\n",
    "        if not resized_version:\n",
    "            img_path = img_path.replace(\"jpg_resized_256\", \"jpg\")\n",
    "        if unimodal == \"image\":\n",
    "            show_image_with_path(img_path, title=None,\n",
    "                                 title_max_len=title_max_len,\n",
    "                                 img_size=img_size)\n",
    "        elif unimodal == \"text\":\n",
    "            img = cv2.imread(img_path)\n",
    "            plt.figure(figsize=(6, 6))\n",
    "            plt.imshow(np.zeros(img.shape))\n",
    "            plt.axis('off')\n",
    "            title = \"\\n\".join(wrap(text, 60))\n",
    "            plt.title(title)\n",
    "        else:\n",
    "            show_image_with_path(img_path, title=text,\n",
    "                                 title_max_len=title_max_len,\n",
    "                                 img_size=img_size)\n",
    "    \n",
    "    if scrambled:\n",
    "        return label\n",
    "    \n",
    "    return list(range(len(text_seq)))"
   ]
  },
  {
   "cell_type": "markdown",
   "metadata": {},
   "source": [
    "## WikiHow Data Demo"
   ]
  },
  {
   "cell_type": "markdown",
   "metadata": {},
   "source": [
    "### Read In WikiHow Data"
   ]
  },
  {
   "cell_type": "code",
   "execution_count": null,
   "metadata": {},
   "outputs": [],
   "source": [
    "from datasets.wikihow import WikiHowGeneralProcessor\n",
    "\n",
    "version_text_to_use = \"acl22\"\n",
    "\n",
    "wikihow_processor = WikiHowGeneralProcessor(version_text=version_text_to_use)\n",
    "data_wikihow_train = wikihow_processor.get_train_examples()\n",
    "data_wikihow_dev = wikihow_processor.get_dev_examples()\n",
    "data_wikihow_test = wikihow_processor.get_test_examples()\n",
    "data_wikihow = data_wikihow_train + data_wikihow_dev + data_wikihow_test\n",
    "\n",
    "print(\"Total Valid Data Sequences: {}\".format(len(data_wikihow)))"
   ]
  },
  {
   "cell_type": "markdown",
   "metadata": {},
   "source": [
    "### WikiHow Category Information (Can Skip)"
   ]
  },
  {
   "cell_type": "code",
   "execution_count": null,
   "metadata": {},
   "outputs": [],
   "source": [
    "categories_to_exclude = [                                                      \n",
    "    \"Youth\",                                                                   \n",
    "    \"Relationships\",                                                           \n",
    "    \"Family Life\",                                                             \n",
    "    \"Holidays and Traditions\",                                                 \n",
    "    \"Personal Care and Style\",                                                 \n",
    "    \"Philosophy and Religion\",                                                 \n",
    "    \"Screenplays\",                                                             \n",
    "    \"Health\",                                                                  \n",
    "    \"Work World\",                                                              \n",
    "    \"Root\",                                                                    \n",
    "]\n",
    "\n",
    "# URL to data mappings\n",
    "def get_url_data_mappings(data):\n",
    "    url_mappings = {}\n",
    "    for i in range(len(data)):\n",
    "        datum = data[i]\n",
    "        url = datum.guid.split(\"###\")[0]\n",
    "        url_mappings[url] = i\n",
    "    return url_mappings\n",
    "\n",
    "# Obtaining url mappings\n",
    "url_data_mappings = get_url_data_mappings(data_wikihow)\n",
    "\n",
    "# Get category mappings\n",
    "def read_in_wikihow_categories(url_data_mappings, cat_path=None, cat_level=1):\n",
    "    if cat_path is None:\n",
    "        json_f = \"data/wikihow/wikihow-categories-output.json\"\n",
    "    else:\n",
    "        json_f = cat_path\n",
    "    json_in = open(json_f, \"r\")\n",
    "    url2cat = {}\n",
    "    cat2url = {}\n",
    "    for line in json_in:\n",
    "        cat = json.loads(line.strip())\n",
    "        url = cat[\"url\"]\n",
    "        categories = cat[\"categories\"]\n",
    "        if url not in url_data_mappings:\n",
    "            pass\n",
    "        if len(categories) - 1 >= cat_level:\n",
    "            cat_level_desc = categories[cat_level][\"category title\"]\n",
    "        else:\n",
    "            cat_level_desc = \"Root\"\n",
    "        url2cat[url] = cat_level_desc\n",
    "        if cat_level_desc not in cat2url:\n",
    "            cat2url[cat_level_desc] = []\n",
    "        cat2url[cat_level_desc].append(url)\n",
    "    return url2cat, cat2url\n",
    "\n",
    "cat_level = 1\n",
    "url2cat, cat2url = read_in_wikihow_categories(url_data_mappings, cat_level=cat_level)\n",
    "total = 0\n",
    "for cat in sorted(cat2url):\n",
    "    total += len(cat2url[cat])\n",
    "    print(\"Category: {}  Num of Data: {}\".format(cat, len(cat2url[cat])))\n",
    "print(\"Number of categories: {}\".format(len(cat2url)))"
   ]
  },
  {
   "cell_type": "markdown",
   "metadata": {},
   "source": [
    "### Show One Sample"
   ]
  },
  {
   "cell_type": "code",
   "execution_count": null,
   "metadata": {
    "scrolled": false
   },
   "outputs": [],
   "source": [
    "rand_idx = np.random.randint(len(data_wikihow))\n",
    "\n",
    "show_one_sampled_data(data_wikihow[rand_idx], \n",
    "                      scrambled=False,\n",
    "                      title_max_len=200,\n",
    "                      show_url=True,\n",
    "                      img_size=4)"
   ]
  },
  {
   "cell_type": "markdown",
   "metadata": {},
   "source": [
    "# RecipeQA  Data Demo"
   ]
  },
  {
   "cell_type": "markdown",
   "metadata": {},
   "source": [
    "### Read In WikiHow Data"
   ]
  },
  {
   "cell_type": "code",
   "execution_count": null,
   "metadata": {},
   "outputs": [],
   "source": [
    "from datasets.recipeqa import RecipeQAGeneralProcessor\n",
    "\n",
    "version_text_to_use = \"acl22\"\n",
    "\n",
    "recipeqa_processor = RecipeQAGeneralProcessor(version_text=version_text_to_use)\n",
    "data_recipeqa_train = recipeqa_processor.get_train_examples()\n",
    "data_recipeqa_dev = recipeqa_processor.get_dev_examples()\n",
    "data_recipeqa_test = recipeqa_processor.get_test_examples()\n",
    "data_recipeqa = data_recipeqa_train + data_recipeqa_dev + data_recipeqa_test\n",
    "\n",
    "print(\"Total Valid Data Sequences: {}\".format(len(data_recipeqa)))"
   ]
  },
  {
   "cell_type": "markdown",
   "metadata": {},
   "source": [
    "### Show One Sample"
   ]
  },
  {
   "cell_type": "code",
   "execution_count": null,
   "metadata": {},
   "outputs": [],
   "source": [
    "rand_idx = np.random.randint(0, len(data_recipeqa))\n",
    "\n",
    "show_one_sampled_data(data_recipeqa[rand_idx], \n",
    "                      scrambled=False,\n",
    "                      title_max_len=200,\n",
    "                      show_url=True,\n",
    "                      img_size=4)"
   ]
  },
  {
   "cell_type": "markdown",
   "metadata": {},
   "source": [
    "## End"
   ]
  }
 ],
 "metadata": {
  "kernelspec": {
   "display_name": "Python 3",
   "language": "python",
   "name": "python3"
  },
  "language_info": {
   "codemirror_mode": {
    "name": "ipython",
    "version": 3
   },
   "file_extension": ".py",
   "mimetype": "text/x-python",
   "name": "python",
   "nbconvert_exporter": "python",
   "pygments_lexer": "ipython3",
   "version": "3.7.9"
  }
 },
 "nbformat": 4,
 "nbformat_minor": 4
}
